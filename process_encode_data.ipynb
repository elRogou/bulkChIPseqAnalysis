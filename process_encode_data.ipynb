{
 "cells": [
  {
   "cell_type": "code",
   "execution_count": 1,
   "metadata": {},
   "outputs": [],
   "source": [
    "import pandas as pd\n",
    "import re\n",
    "import os"
   ]
  },
  {
   "cell_type": "code",
   "execution_count": 2,
   "metadata": {},
   "outputs": [],
   "source": [
    "protein_summary_df = pd.read_csv(\"input/proteinsSummary.csv\")\n",
    "protein_summary_df.columns\n",
    "encode_files_summary  = pd.DataFrame(columns=[\"pdbID\", \"Accession\",\"File\"])"
   ]
  },
  {
   "cell_type": "code",
   "execution_count": 3,
   "metadata": {},
   "outputs": [
    {
     "data": {
      "text/plain": [
       "(111, 3)"
      ]
     },
     "execution_count": 3,
     "metadata": {},
     "output_type": "execute_result"
    }
   ],
   "source": [
    "protein_summary_df.shape"
   ]
  },
  {
   "cell_type": "code",
   "execution_count": 4,
   "metadata": {},
   "outputs": [],
   "source": [
    "# pdb_id = '1a02'\n",
    "base_dir = 'output/proteins/'\n",
    "file_type = 'bigBed'\n",
    "pattern = fr\"proteins/\\w+/encode/(\\w+)/(\\w+)\\.{file_type}\"\n",
    "results = []\n"
   ]
  },
  {
   "cell_type": "code",
   "execution_count": 15,
   "metadata": {},
   "outputs": [
    {
     "name": "stdout",
     "output_type": "stream",
     "text": [
      "Found 5 motifs for name Klf4.\n",
      "Found 3 motifs for name Myod1.\n",
      "Found 3 motifs for name TP53.\n",
      "Found 5 motifs for name Egr1.\n",
      "Found 1 motifs for name cI.\n",
      "Found 0 motifs for name pros.\n",
      "Found 2 motifs for name prd.\n",
      "Found 5 motifs for name JUN.\n",
      "Found 5 motifs for name Ebf1.\n",
      "Found 2 motifs for name WT1.\n",
      "Found 7 motifs for name MAX.\n",
      "Found 3 motifs for name Runx1.\n",
      "Found 2 motifs for name Rbpj.\n",
      "Found 0 motifs for name lag-1.\n",
      "Found 2 motifs for name ETS2.\n",
      "Found 4 motifs for name NR3C1.\n",
      "Found 1 motifs for name FOXO4.\n",
      "Found 3 motifs for name Elf3.\n",
      "Found 3 motifs for name ELK4.\n",
      "Found 0 motifs for name cro.\n",
      "Found 4 motifs for name CEBPB.\n",
      "Found 5 motifs for name Cebpa.\n",
      "Found 3 motifs for name Tp53.\n",
      "Found 1 motifs for name en.\n",
      "Found 4 motifs for name Mafg.\n",
      "Found 5 motifs for name EGR1.\n",
      "Found 3 motifs for name NR5A2.\n",
      "Found 8 motifs for name CTCF.\n",
      "Found 4 motifs for name Nr3c1.\n",
      "Found 4 motifs for name Ets1.\n",
      "Found 4 motifs for name ESR1.\n",
      "Found 0 motifs for name Zscan2.\n",
      "Found 4 motifs for name ETS1.\n",
      "Found 1 motifs for name insv.\n",
      "Found 2 motifs for name LIN54.\n",
      "Found 3 motifs for name Nr4a1.\n",
      "Found 7 motifs for name HNF4A.\n",
      "Found 6 motifs for name Thrb.\n",
      "Found 4 motifs for name ETV4.\n",
      "Found 4 motifs for name ERG.\n",
      "Found 0 motifs for name C2.\n",
      "Found 2 motifs for name FOXA3.\n",
      "Found 5 motifs for name GATA3.\n",
      "Found 2 motifs for name Etv6.\n",
      "Found 4 motifs for name HMBOX1.\n",
      "Found 3 motifs for name MEIS2.\n",
      "Found 2 motifs for name TP63.\n",
      "Found 3 motifs for name HOXB13.\n",
      "Found 3 motifs for name ELK1.\n",
      "Found 4 motifs for name MYC.\n",
      "Found 0 motifs for name arc.\n",
      "Found 2 motifs for name NFKB2.\n",
      "Found 7 motifs for name Mitf.\n",
      "Found 3 motifs for name FOXK2.\n",
      "Found 2 motifs for name Pou5f1.\n",
      "Found 2 motifs for name FOXP2.\n",
      "Found 5 motifs for name Gata3.\n",
      "Found 0 motifs for name ZNF217.\n",
      "Found 2 motifs for name SPDEF.\n",
      "Found 3 motifs for name TBX3.\n",
      "Found 2 motifs for name POU2F1.\n",
      "Found 3 motifs for name FOXO1.\n",
      "Found 2 motifs for name ZBTB33.\n",
      "Found 4 motifs for name FOXA2.\n",
      "Found 3 motifs for name Onecut1.\n",
      "Found 4 motifs for name HSF1.\n",
      "Found 6 motifs for name Gata1.\n",
      "Found 3 motifs for name Tbx21.\n",
      "Found 2 motifs for name RXRA.\n",
      "Found 4 motifs for name STAT1.\n",
      "Found 3 motifs for name TEAD4.\n",
      "Found 3 motifs for name HAP1.\n",
      "Found 3 motifs for name RAP1.\n",
      "Found 4 motifs for name YY1.\n",
      "Found 5 motifs for name MEF2A.\n",
      "Found 7 motifs for name Creb1.\n",
      "Found 1 motifs for name HSF2.\n",
      "Found 1 motifs for name TBX1.\n",
      "Found 4 motifs for name ETV5.\n",
      "Found 0 motifs for name IFI16.\n",
      "Found 3 motifs for name NFAT5.\n",
      "Found 1 motifs for name eve.\n",
      "Found 2 motifs for name Smad4.\n",
      "Found 2 motifs for name HSF.\n",
      "Found 3 motifs for name ETV1.\n",
      "Found 1 motifs for name Antp.\n",
      "Found 5 motifs for name HNF1A.\n",
      "Found 0 motifs for name TERF1.\n",
      "Found 1 motifs for name SMAD3.\n",
      "Found 0 motifs for name E2.\n",
      "Found 7 motifs for name Spi1.\n",
      "Found 0 motifs for name Smad1.\n",
      "Found 3 motifs for name reb1.\n",
      "Found 0 motifs for name TERF2.\n",
      "Found 1 motifs for name ttk.\n",
      "Found 1 motifs for name CI.\n",
      "Found 0 motifs for name CRO.\n",
      "Found 2 motifs for name Irf2.\n",
      "Found 4 motifs for name Irf1.\n",
      "Found 4 motifs for name SREBF1.\n",
      "Found 1 motifs for name FOXM1.\n",
      "Found 2 motifs for name IRF3.\n",
      "Found 4 motifs for name USF1.\n",
      "Found 4 motifs for name REL.\n",
      "Found 0 motifs for name HmgD.\n",
      "Found 4 motifs for name POU6F1.\n",
      "Found 0 motifs for name TFAM.\n",
      "Found 2 motifs for name Sox18.\n",
      "Found 0 motifs for name mta.\n",
      "Found 0 motifs for name TBP1.\n",
      "Found 3 motifs for name TBP.\n"
     ]
    }
   ],
   "source": [
    "#%% \n",
    "from modules.api_operations import get_uniprot_id, get_gene_name, fetch_motifs_by_name\n",
    "from modules.motif_operations import retrieve_and_save_versions\n",
    "\n",
    "\n",
    "motifs_df = pd.DataFrame(columns=[\"pdbID\", \"Matrix_id\"])\n",
    "\n",
    "count = 0\n",
    "for i,pdb_id in enumerate(protein_summary_df['pdbID']):\n",
    "    pdb_id_path = os.path.join(base_dir,pdb_id)\n",
    "    motifs = fetch_motifs_by_name(protein_summary_df.loc[i]['Gene name'])\n",
    "    # break\n",
    "    if motifs:\n",
    "        retrieve_and_save_versions(motifs, file_type='jaspar',output_dir=f\"{pdb_id_path}/pfms\")\n",
    "    # break\n"
   ]
  },
  {
   "cell_type": "code",
   "execution_count": 5,
   "metadata": {},
   "outputs": [],
   "source": [
    "# Retrieving flanks for proteins in df:\n",
    "# 1. fetch list of bed files\n",
    "# 2. get fasta of peaks using genome\n",
    "# 3. fetch pfms\n",
    "# 4. for each pfm fetch flanks, right and left\n",
    "# the data will be the following:\n",
    "# for every protein, for every ChIPseq experinment, for every bed file in experiment\n",
    "# for every pfm, there will be two fa files - left and right.\n",
    "# Is it correct to join them?\n",
    "# The filename cxan be the following:\n",
    "# {pdb_id}.{experiment}.{bed_filename}.{pfm}.LF.fa\n",
    "# {pdb_id}.{experiment}.{bed_filename}.{pfm}.RF.fa\n",
    "# in a single analysis folders in output folder.\n",
    "\n",
    "# When running main:\n",
    "# create output/analysis\n",
    "# load the data with pdb_ids\n",
    "# fetch list of files, clever, no glob, maybe should be\n",
    "# saved with pdb_ids when running encode retrieval?"
   ]
  },
  {
   "cell_type": "code",
   "execution_count": 16,
   "metadata": {},
   "outputs": [
    {
     "name": "stdout",
     "output_type": "stream",
     "text": [
      "TF name\tNFKB2\n",
      "Matrix ID\tMA0778.1\n",
      "Matrix:\n",
      "        0      1      2      3      4      5      6      7      8      9     10     11     12\n",
      "A: 5041.00 101.00   1.00   8.00 2663.00 8380.00 5182.00 1173.00 852.00 256.00   2.00   8.00 1527.00\n",
      "C: 2456.00  97.00   1.00   5.00  11.00 977.00  60.00 1395.00 11011.00 12673.00 12710.00 12888.00 3324.00\n",
      "G: 2306.00 16291.00 16041.00 16055.00 13129.00 856.00  51.00 1077.00  19.00   1.00   1.00   3.00 2182.00\n",
      "T: 1980.00   4.00   3.00 565.00 987.00 636.00 5970.00 10976.00 1867.00  44.00   2.00  23.00 5985.00\n",
      "\n",
      "\n",
      "\n",
      "TF name\tNFKB2\n",
      "Matrix ID\tMA0778.2\n",
      "Matrix:\n",
      "        0      1      2      3      4      5      6      7      8      9     10\n",
      "A: 101.00   1.00   8.00 2663.00 8380.00 5182.00 1173.00 852.00 256.00   2.00   8.00\n",
      "C:  97.00   1.00   5.00  11.00 977.00  60.00 1395.00 11011.00 12673.00 12710.00 12888.00\n",
      "G: 16291.00 16041.00 16055.00 13129.00 856.00  51.00 1077.00  19.00   1.00   1.00   3.00\n",
      "T:   4.00   3.00 565.00 987.00 636.00 5970.00 10976.00 1867.00  44.00   2.00  23.00\n",
      "\n",
      "\n",
      "\n"
     ]
    }
   ],
   "source": [
    "from Bio import SeqIO\n",
    "from Bio import motifs\n",
    "\n",
    "pfm_file = 'output/proteins/1a3q/pfms/versions.jaspar'\n",
    "with open(pfm_file) as motif_file:\n",
    "        all_motifs = list(motifs.parse(motif_file, \"jaspar\"))\n",
    "        for motif in all_motifs:\n",
    "            print(motif)``"
   ]
  },
  {
   "cell_type": "code",
   "execution_count": 22,
   "metadata": {},
   "outputs": [
    {
     "data": {
      "text/plain": [
       "True"
      ]
     },
     "execution_count": 22,
     "metadata": {},
     "output_type": "execute_result"
    }
   ],
   "source": [
    "pfm_file."
   ]
  },
  {
   "cell_type": "code",
   "execution_count": null,
   "metadata": {},
   "outputs": [],
   "source": []
  }
 ],
 "metadata": {
  "kernelspec": {
   "display_name": "Python 3",
   "language": "python",
   "name": "python3"
  },
  "language_info": {
   "codemirror_mode": {
    "name": "ipython",
    "version": 3
   },
   "file_extension": ".py",
   "mimetype": "text/x-python",
   "name": "python",
   "nbconvert_exporter": "python",
   "pygments_lexer": "ipython3",
   "version": "3.9.13"
  }
 },
 "nbformat": 4,
 "nbformat_minor": 2
}
